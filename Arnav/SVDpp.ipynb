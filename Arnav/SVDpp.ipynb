{
 "cells": [
  {
   "cell_type": "markdown",
   "metadata": {},
   "source": [
    "### Imports"
   ]
  },
  {
   "cell_type": "code",
   "execution_count": 22,
   "metadata": {},
   "outputs": [],
   "source": [
    "import pandas as pd\n",
    "import json\n",
    "\n",
    "from surprise import SVDpp, Dataset, Reader\n",
    "from surprise.model_selection import train_test_split\n",
    "from surprise import accuracy\n",
    "from surprise.model_selection import GridSearchCV"
   ]
  },
  {
   "cell_type": "markdown",
   "metadata": {},
   "source": [
    "### Read and filter dataset"
   ]
  },
  {
   "cell_type": "code",
   "execution_count": 28,
   "metadata": {},
   "outputs": [],
   "source": [
    "# Load review data\n",
    "with open('yelp_academic_dataset_review.json', 'r', encoding='utf-8') as f:\n",
    "    review_data = [json.loads(line) for line in f]\n",
    "full_review_df = pd.DataFrame(review_data)\n",
    "\n",
    "# Load review data\n",
    "with open('yelp_academic_dataset_business.json', 'r', encoding='utf-8') as f:\n",
    "    business_data = [json.loads(line) for line in f]\n",
    "full_business_df = pd.DataFrame(business_data)"
   ]
  },
  {
   "cell_type": "code",
   "execution_count": 41,
   "metadata": {},
   "outputs": [],
   "source": [
    "def filter_reviews(review_df, business_df, \n",
    "                   cols: list = ['user_id', 'business_id', 'stars_review'],\n",
    "                   num_samples: int = 100000):\n",
    "    \n",
    "    \"\"\"\n",
    "    Filters review data to Philadelphia businesses and selects a subset of columns\n",
    "    Args:\n",
    "        review_df (pd.DataFrame): DataFrame containing review data\n",
    "        business_df (pd.DataFrame): DataFrame containing business data\n",
    "        cols (list, optional): Columns to keep in output DataFrame. Defaults to ['user_id', 'business_id', 'stars_review']\n",
    "        num_samples (int, optional): Number of random samples to return. If None, returns all filtered reviews\n",
    "\n",
    "    Returns:\n",
    "        pd.DataFrame: Filtered DataFrame containing only Philadelphia business reviews with specified columns\n",
    "    \"\"\"\n",
    "        \n",
    "    # First filter businesses to only Philadelphia\n",
    "    phil_businesses = business_df[business_df['city'] == 'Philadelphia']\n",
    "\n",
    "    # Merge with reviews to get only Philadelphia reviews\n",
    "    filtered_reviews = pd.merge(review_df, phil_businesses, on='business_id', how='inner', suffixes=('_review', '_business'))\n",
    "    \n",
    "    if num_samples is None:\n",
    "        return filtered_reviews[cols]\n",
    "        \n",
    "    return filtered_reviews.sample(n=num_samples, random_state=42)[cols]\n",
    "review_df = filter_reviews(full_review_df, full_business_df, num_samples=100000)"
   ]
  },
  {
   "cell_type": "code",
   "execution_count": 43,
   "metadata": {},
   "outputs": [
    {
     "name": "stdout",
     "output_type": "stream",
     "text": [
      "Shape of the dataset: (100000, 3)\n"
     ]
    },
    {
     "data": {
      "text/html": [
       "<div>\n",
       "<style scoped>\n",
       "    .dataframe tbody tr th:only-of-type {\n",
       "        vertical-align: middle;\n",
       "    }\n",
       "\n",
       "    .dataframe tbody tr th {\n",
       "        vertical-align: top;\n",
       "    }\n",
       "\n",
       "    .dataframe thead th {\n",
       "        text-align: right;\n",
       "    }\n",
       "</style>\n",
       "<table border=\"1\" class=\"dataframe\">\n",
       "  <thead>\n",
       "    <tr style=\"text-align: right;\">\n",
       "      <th></th>\n",
       "      <th>user_id</th>\n",
       "      <th>business_id</th>\n",
       "      <th>stars_review</th>\n",
       "    </tr>\n",
       "  </thead>\n",
       "  <tbody>\n",
       "    <tr>\n",
       "      <th>941796</th>\n",
       "      <td>XrWAdRK4CUUK85Ak3x-HDw</td>\n",
       "      <td>h_rcMQtglIiAs-Oc5d8Ozw</td>\n",
       "      <td>4.0</td>\n",
       "    </tr>\n",
       "    <tr>\n",
       "      <th>406568</th>\n",
       "      <td>8nQXLLoCSzUvr5vrZOBWOw</td>\n",
       "      <td>QbJXsdhbZ8HQqjCpb76_FQ</td>\n",
       "      <td>1.0</td>\n",
       "    </tr>\n",
       "    <tr>\n",
       "      <th>423</th>\n",
       "      <td>JWeXuv2B9lRhiXBcIzsi2Q</td>\n",
       "      <td>7CXSQYrIep0jdvoYPUIGdQ</td>\n",
       "      <td>4.0</td>\n",
       "    </tr>\n",
       "    <tr>\n",
       "      <th>851186</th>\n",
       "      <td>_KIlU6g4QcmJY9Dr3dINeQ</td>\n",
       "      <td>iksVwRfpWymIUUFqw0tXpw</td>\n",
       "      <td>5.0</td>\n",
       "    </tr>\n",
       "    <tr>\n",
       "      <th>48162</th>\n",
       "      <td>xIfJQ8KT0xhsEco0IzHrSw</td>\n",
       "      <td>HMlqFPIHqiDV7qE1vREQXg</td>\n",
       "      <td>5.0</td>\n",
       "    </tr>\n",
       "  </tbody>\n",
       "</table>\n",
       "</div>"
      ],
      "text/plain": [
       "                       user_id             business_id  stars_review\n",
       "941796  XrWAdRK4CUUK85Ak3x-HDw  h_rcMQtglIiAs-Oc5d8Ozw           4.0\n",
       "406568  8nQXLLoCSzUvr5vrZOBWOw  QbJXsdhbZ8HQqjCpb76_FQ           1.0\n",
       "423     JWeXuv2B9lRhiXBcIzsi2Q  7CXSQYrIep0jdvoYPUIGdQ           4.0\n",
       "851186  _KIlU6g4QcmJY9Dr3dINeQ  iksVwRfpWymIUUFqw0tXpw           5.0\n",
       "48162   xIfJQ8KT0xhsEco0IzHrSw  HMlqFPIHqiDV7qE1vREQXg           5.0"
      ]
     },
     "execution_count": 43,
     "metadata": {},
     "output_type": "execute_result"
    }
   ],
   "source": [
    "print(f\"Shape of the dataset: {review_df.shape}\")\n",
    "review_df.head()"
   ]
  },
  {
   "cell_type": "markdown",
   "metadata": {},
   "source": [
    "# SVD++"
   ]
  },
  {
   "cell_type": "code",
   "execution_count": 44,
   "metadata": {},
   "outputs": [],
   "source": [
    "# Create the Dataset from the pandas df\n",
    "reader = Reader(line_format='user item rating', rating_scale=(1 ,5))\n",
    "data = Dataset.load_from_df(review_df[['user_id', 'business_id', 'stars_review']], reader=reader)"
   ]
  },
  {
   "cell_type": "markdown",
   "metadata": {},
   "source": [
    "### Hyperparameter tuning"
   ]
  },
  {
   "cell_type": "code",
   "execution_count": 47,
   "metadata": {},
   "outputs": [
    {
     "name": "stdout",
     "output_type": "stream",
     "text": [
      "Best MSE score: 1.6369837968636904\n",
      "Best parameters: {'n_factors': 1, 'n_epochs': 40, 'lr_all': 0.005, 'reg_all': 0.1}\n"
     ]
    }
   ],
   "source": [
    "# Define the hyperparameters to try\n",
    "param_grid = {\n",
    "    'n_factors': [1, 5, 25],\n",
    "    'n_epochs': [20, 30, 40],\n",
    "    'lr_all': [0.002, 0.005, 0.01],\n",
    "    'reg_all': [0.02, 0.1, 0.5]\n",
    "}\n",
    "\n",
    "# Grid search for hyperparameter tuning\n",
    "grid_search = GridSearchCV(SVDpp, param_grid, measures=['mse'], cv=5)\n",
    "grid_search.fit(data)\n",
    "\n",
    "# Evaluation of grid search\n",
    "print(f\"Best MSE score: {grid_search.best_score['mse']}\")\n",
    "print(f\"Best parameters: {grid_search.best_params['mse']}\")"
   ]
  },
  {
   "cell_type": "markdown",
   "metadata": {},
   "source": [
    "### Training and Evaluation"
   ]
  },
  {
   "cell_type": "code",
   "execution_count": 51,
   "metadata": {},
   "outputs": [
    {
     "name": "stdout",
     "output_type": "stream",
     "text": [
      "RMSE: 1.2750\n",
      "MAE:  1.0291\n",
      "RMSE: 1.2749777599264966\n",
      "MAE: 1.0291085285446566\n"
     ]
    }
   ],
   "source": [
    "# Split into train and test\n",
    "trainset, testset = train_test_split(data, test_size=0.1)\n",
    "\n",
    "# Train the SVD++ model on the training data\n",
    "model = grid_search.best_estimator['mse']\n",
    "model.fit(trainset)\n",
    "\n",
    "# Evaluate model on the test set\n",
    "predictions = model.test(testset)\n",
    "\n",
    "rmse = accuracy.rmse(predictions)\n",
    "mae = accuracy.mae(predictions)\n",
    "print(f'RMSE: {rmse}')\n",
    "print(f'MAE: {mae}')"
   ]
  }
 ],
 "metadata": {
  "kernelspec": {
   "display_name": "cse158",
   "language": "python",
   "name": "python3"
  },
  "language_info": {
   "codemirror_mode": {
    "name": "ipython",
    "version": 3
   },
   "file_extension": ".py",
   "mimetype": "text/x-python",
   "name": "python",
   "nbconvert_exporter": "python",
   "pygments_lexer": "ipython3",
   "version": "3.12.7"
  }
 },
 "nbformat": 4,
 "nbformat_minor": 2
}
